{
 "cells": [
  {
   "cell_type": "code",
   "execution_count": 9,
   "metadata": {},
   "outputs": [],
   "source": [
    "import torch\n",
    "import torch.nn as nn\n",
    "import torch.nn.functional as F\n",
    "import numpy as np\n",
    "from torchsummary import summary\n"
   ]
  },
  {
   "cell_type": "code",
   "execution_count": 10,
   "metadata": {},
   "outputs": [],
   "source": [
    "class DDQNLidar(nn.Module):\n",
    "    def __init__(self, action_size):\n",
    "        \"\"\" Create Q-network\n",
    "        Parameters\n",
    "        ----------\n",
    "        action_size: int\n",
    "            number of actions\n",
    "        device: torch.device\n",
    "            device on which to the model will be allocated\n",
    "        \"\"\"\n",
    "        super().__init__()\n",
    "\n",
    "        self.action_size = action_size\n",
    "\n",
    "        self.width = 20    \n",
    "        self.height = 20\n",
    "        self.depth = 2\n",
    "\n",
    "        self.c1 = nn.Conv2d(2, 16, kernel_size=2, stride=2) #16 x 10 x 10\n",
    "        self.c2 = nn.Conv2d(16, 64, kernel_size=2, stride=2) # 64 x 5 x 5\n",
    "        self.c3 = nn.Conv2d(64, 256, kernel_size=5, stride=1) # 256 x 1 x 1\n",
    "\n",
    "        #results in 1x1x128\n",
    "\n",
    "        self.flat = nn.Flatten()\n",
    "\n",
    "        self.fc1 = nn.Linear(256, 32768)\n",
    "        self.fc2 = nn.Linear(32768, 8192)\n",
    "        self.fc3 = nn.Linear(8192, 512)\n",
    "        self.V = nn.Linear(512, 1)\n",
    "        self.A = nn.Linear(512, action_size)\n",
    "\n",
    "    def forward(self, observation):\n",
    "        \"\"\" Forward pass to compute Q-values\n",
    "        Parameters\n",
    "        ----------\n",
    "        observation: np.array\n",
    "            array of state(s)\n",
    "        Returns\n",
    "        ----------\n",
    "        torch.Tensor\n",
    "            Q-values  \n",
    "        \"\"\"\n",
    "\n",
    "        # if isinstance(observation, torch.Tensor):\n",
    "        #     print(\"Is tensor\")\n",
    "        # else:\n",
    "        #     #b, h, w, c\n",
    "        #     #b, c, h, w \n",
    "        #     observation = torch.from_numpy(observation).to(self.device).permute(0, 3, 1, 2)\n",
    "        #     observation = observation[:, :, :self.height, :]\n",
    "\n",
    "        c1 = torch.relu(self.c1(observation))\n",
    "        c2 = torch.relu(self.c2(c1))\n",
    "        c3 = torch.relu(self.c3(c2))\n",
    "\n",
    "        flat = self.flat(c3)\n",
    "\n",
    "        fc1 = torch.relu(self.fc1(flat))\n",
    "        fc2 = torch.relu(self.fc2(fc1))\n",
    "        fc3 = torch.relu(self.fc3(fc2))\n",
    "        V = self.V(fc3).expand(fc3.size(0), self.action_size)\n",
    "        A = self.A(fc3)\n",
    "\n",
    "        Q = V + A - A.mean(1).unsqueeze(1).expand(fc3.size(0), self.action_size)\n",
    "\n",
    "        return Q"
   ]
  },
  {
   "cell_type": "code",
   "execution_count": 14,
   "metadata": {},
   "outputs": [
    {
     "name": "stdout",
     "output_type": "stream",
     "text": [
      "----------------------------------------------------------------\n",
      "        Layer (type)               Output Shape         Param #\n",
      "================================================================\n",
      "            Conv2d-1           [-1, 16, 10, 10]             144\n",
      "            Conv2d-2             [-1, 64, 5, 5]           4,160\n",
      "            Conv2d-3            [-1, 256, 1, 1]         409,856\n",
      "           Flatten-4                  [-1, 256]               0\n",
      "            Linear-5                [-1, 32768]       8,421,376\n",
      "            Linear-6                 [-1, 8192]     268,443,648\n",
      "            Linear-7                  [-1, 512]       4,194,816\n",
      "            Linear-8                    [-1, 1]             513\n",
      "            Linear-9                    [-1, 4]           2,052\n",
      "================================================================\n",
      "Total params: 281,476,565\n",
      "Trainable params: 281,476,565\n",
      "Non-trainable params: 0\n",
      "----------------------------------------------------------------\n",
      "Input size (MB): 0.00\n",
      "Forward/backward pass size (MB): 0.34\n",
      "Params size (MB): 1073.75\n",
      "Estimated Total Size (MB): 1074.10\n",
      "----------------------------------------------------------------\n"
     ]
    }
   ],
   "source": [
    "\n",
    "model = DDQNLidar(4)\n",
    "summary(model, input_size=(2, 20, 20), device=\"cpu\")\n"
   ]
  },
  {
   "cell_type": "code",
   "execution_count": null,
   "metadata": {},
   "outputs": [],
   "source": []
  }
 ],
 "metadata": {
  "kernelspec": {
   "display_name": "ActualHome0",
   "language": "python",
   "name": "python3"
  },
  "language_info": {
   "codemirror_mode": {
    "name": "ipython",
    "version": 3
   },
   "file_extension": ".py",
   "mimetype": "text/x-python",
   "name": "python",
   "nbconvert_exporter": "python",
   "pygments_lexer": "ipython3",
   "version": "3.7.12"
  }
 },
 "nbformat": 4,
 "nbformat_minor": 2
}
